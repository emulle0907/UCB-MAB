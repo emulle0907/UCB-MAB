{
 "cells": [
  {
   "cell_type": "code",
   "execution_count": 10,
   "metadata": {},
   "outputs": [],
   "source": [
    "import networkx as nx\n",
    "import numpy as np\n",
    "import matplotlib.pyplot as plt"
   ]
  },
  {
   "cell_type": "code",
   "execution_count": 242,
   "metadata": {},
   "outputs": [],
   "source": [
    "def calculateEpsilons(eigenVals, eigenVects, M): # only works for 2 agents\n",
    "    eps_n = np.sqrt(M) * np.sum((np.abs(eigenVals[1:]) / (1 - np.abs(eigenVals[1:]))))\n",
    "    eps_c = []\n",
    "    for i in range(M):\n",
    "        eps = 0\n",
    "        vpos = 0\n",
    "        vneg = 0\n",
    "        b = 0\n",
    "        if((eigenVects * np.transpose(eigenVects))[i,i] >= 0):\n",
    "            for j in range(len(eigenVects) - 1):\n",
    "                vpos += (eigenVects[i,j] * eigenVects[i,j+1])\n",
    "        if((eigenVects * np.transpose(eigenVects))[i,i] <= 0):\n",
    "            for j in range(len(eigenVects) - 1):\n",
    "                vneg += (eigenVects[i,j] * eigenVects[i,j+1])\n",
    "    \n",
    "        if(eigenVals[0] * eigenVals[1] >= 0 and (eigenVects * np.transpose(eigenVects))[i,i] >= 0):\n",
    "            b = vpos * (eigenVects * (np.transpose(eigenVects)))[i,i]\n",
    "        elif(eigenVals[0] * eigenVals[1] >= 0 and (eigenVects * np.transpose(eigenVects))[i,i] <= 0):\n",
    "            b = vneg * (eigenVects * (np.transpose(eigenVects)))[i,i]\n",
    "        else:\n",
    "            b = max(np.abs(vneg), vpos) * np.abs((eigenVects * np.transpose(eigenVects))[i,i])\n",
    "    \n",
    "        for p in range(M - 1):\n",
    "            lambdas = np.abs(eigenVals[p] * eigenVals[p+1])\n",
    "            eps += (lambdas / (1 - lambdas)) * b\n",
    "        eps *= M\n",
    "        eps_c.append(eps)\n",
    "    return eps_n, eps_c"
   ]
  },
  {
   "cell_type": "code",
   "execution_count": 243,
   "metadata": {},
   "outputs": [],
   "source": [
    "class Agent:\n",
    "    def __init__(self, num_arms):\n",
    "        # Number of total steps\n",
    "        self.total_arm_selections = np.ones(num_arms)\n",
    "        # Total reward for each arm\n",
    "        self.arm_rewards = np.zeros(num_arms)\n",
    "        # Total mean reward from all arms\n",
    "        self.mean_rewards = self.arm_rewards / self.total_arm_selections\n",
    "    \n",
    "    def updateSelections(self, index):\n",
    "        self.total_arm_selections[index] += 1\n",
    "    \n",
    "    def updateRewards(self, index, reward):\n",
    "        self.arm_rewards[index] = reward\n",
    "    \n",
    "    def updateMeans(self):\n",
    "        self.mean_rewards = self.arm_rewards / self.total_arm_selections"
   ]
  },
  {
   "cell_type": "code",
   "execution_count": 272,
   "metadata": {},
   "outputs": [],
   "source": [
    "class Arm:\n",
    "    def __init__(self):\n",
    "        self.reward_distrib = np.abs(np.random.normal(0, 1))\n",
    "    \n",
    "    def getReward(self):\n",
    "        return np.abs(np.random.normal(self.reward_distrib, 1))"
   ]
  },
  {
   "cell_type": "code",
   "execution_count": 367,
   "metadata": {},
   "outputs": [],
   "source": [
    "N = 5 # number of arms\n",
    "M = 4 # number of agents\n",
    "arms = []\n",
    "agents = []\n",
    "arm_selections = []\n",
    "arm_rewards = []\n",
    "mean_rewards = []\n",
    "\n",
    "indicators = np.zeros([M,N])\n",
    "rewards = np.zeros([M,N])\n",
    "\n",
    "T = 250 # time to run for\n",
    "gamma = 1.5 # must be greater than 1 according to paper\n",
    "\n",
    "for i in range(N): # initialize arms\n",
    "    arms.append(Arm())\n",
    "\n",
    "for i in range(M): # initialize agents\n",
    "    agents.append(Agent(N))\n",
    "\n",
    "for i in range(len(agents)): # get arrays of selections and rewards\n",
    "    arm_selections.append(agents[i].total_arm_selections)\n",
    "    arm_rewards.append(agents[i].arm_rewards)\n",
    "arm_selections = np.array(arm_selections)\n",
    "arm_rewards = np.array(arm_rewards)\n",
    "\n",
    "for i in range(len(arms)): # initialize with 1 round of rewards\n",
    "    for j in range(len(agents)):\n",
    "        reward = arms[i].getReward()\n",
    "        arm_rewards[j][i] = reward\n",
    "mean_rewards = arm_rewards/arm_selections"
   ]
  },
  {
   "cell_type": "code",
   "execution_count": 368,
   "metadata": {},
   "outputs": [
    {
     "name": "stderr",
     "output_type": "stream",
     "text": [
      "C:\\Users\\ethan\\Anaconda3\\lib\\site-packages\\ipykernel_launcher.py:2: RuntimeWarning: divide by zero encountered in true_divide\n",
      "  \n"
     ]
    }
   ],
   "source": [
    "G = nx.Graph()\n",
    "G.add_nodes_from([0, 1, 2, 3])\n",
    "G.add_edges_from([(0, 1), (0, 2), (1, 2), (0, 3)])\n",
    "A = nx.adjacency_matrix(G)\n",
    "L = nx.laplacian_matrix(G)\n",
    "\n",
    "M = len(G)\n",
    "\n",
    "maxDeg = 0\n",
    "for i in range(len(G)): # find max degree in graph\n",
    "    if G.degree[i] > maxDeg:\n",
    "        maxDeg = G.degree[i]\n",
    "\n",
    "kappa = .5\n",
    "P = np.eye(len(G)) - (kappa*L / maxDeg) # calculate P matrix from paper\n",
    "eigenVals, eigenVects = np.linalg.eig(P) # calculate P's eigenvectors and eigenvalues\n",
    "\n",
    "_, eps_c = calculateEpsilons(eigenVals, eigenVects, M) # calculate epsilons eps_n and eps_c from paper"
   ]
  },
  {
   "cell_type": "code",
   "execution_count": 378,
   "metadata": {},
   "outputs": [
    {
     "data": {
      "text/plain": [
       "[-10.763458589892302,\n",
       " 15.837401628514623,\n",
       " 1.4861235086581912,\n",
       " -6.560066547280481]"
      ]
     },
     "execution_count": 378,
     "metadata": {},
     "output_type": "execute_result"
    }
   ],
   "source": [
    "eps_c"
   ]
  },
  {
   "cell_type": "code",
   "execution_count": 370,
   "metadata": {},
   "outputs": [
    {
     "name": "stderr",
     "output_type": "stream",
     "text": [
      "C:\\Users\\ethan\\Anaconda3\\lib\\site-packages\\ipykernel_launcher.py:19: RuntimeWarning: invalid value encountered in sqrt\n"
     ]
    }
   ],
   "source": [
    "reward = 0\n",
    "sampledIndex = 0\n",
    "maxRwd = 0\n",
    "maxIndex = 0\n",
    "sampledIndices = []\n",
    "iter_rewards = np.zeros(T+1)\n",
    "meanRwd = 0\n",
    "\n",
    "for t in range(1,T+1):\n",
    "    mean_rewards = arm_rewards/arm_selections # update u_i(t)\n",
    "    arm_selections = P*arm_selections + P*indicators # update s_i(t)\n",
    "    arm_rewards = P*arm_rewards + P*rewards # update n_i(t)\n",
    "    indicators = np.zeros([M,N])\n",
    "    rewards = np.zeros([M,N])\n",
    "    for k in range(len(agents)):\n",
    "        maxRwd = 0\n",
    "        vals = []\n",
    "        for i in range(len(arms)): # loop through arms to find max reward to decide which arm to choose\n",
    "            val = mean_rewards[k,i] + np.sqrt((2*gamma) * ((arm_selections[k,i] + eps_c[k]) / (M*arm_selections[k,i])) * (np.log(t)/arm_selections[k,i]))\n",
    "            vals.append(val)\n",
    "            if val > maxRwd:\n",
    "                maxRwd = val\n",
    "                maxIndex = i\n",
    "        sampledIndex = maxIndex # set index of chosen arm\n",
    "        sampledIndices.append(sampledIndex)\n",
    "        reward = arms[sampledIndex].getReward() # get reward from chosen arm\n",
    "        meanRwd = meanRwd + (reward-meanRwd) / t\n",
    "        indicators[k,sampledIndex] = 1 # set indicator to 1 for chosen arm\n",
    "        rewards[k,sampledIndex] = reward # set r_i(t)\n",
    "        iter_rewards[t] = meanRwd"
   ]
  },
  {
   "cell_type": "code",
   "execution_count": 371,
   "metadata": {},
   "outputs": [
    {
     "data": {
      "text/plain": [
       "matrix([[1.15151674, 1.98797122, 0.79700072, 1.05090424, 1.15815479],\n",
       "        [1.15164561, 1.98851386, 0.79699695, 1.05089987, 1.15812139],\n",
       "        [1.15164558, 1.98681985, 0.79699695, 1.05089987, 1.15812139],\n",
       "        [1.15125873, 1.98526986, 0.79700829, 1.05091297, 1.15822159]])"
      ]
     },
     "execution_count": 371,
     "metadata": {},
     "output_type": "execute_result"
    }
   ],
   "source": [
    "mean_rewards"
   ]
  },
  {
   "cell_type": "code",
   "execution_count": 372,
   "metadata": {},
   "outputs": [
    {
     "data": {
      "text/plain": [
       "matrix([[ 10.75      , 215.        ,   7.5       ,   9.75      ,\n",
       "          11.        ],\n",
       "        [ 10.7536231 , 214.99335063,   7.50110556,   9.75142804,\n",
       "          11.00049267],\n",
       "        [ 10.75362262, 214.99335111,   7.50110555,   9.75142804,\n",
       "          11.00049267],\n",
       "        [ 10.74275428, 215.01329826,   7.49778889,   9.74714391,\n",
       "          10.99901465]])"
      ]
     },
     "execution_count": 372,
     "metadata": {},
     "output_type": "execute_result"
    }
   ],
   "source": [
    "arm_selections"
   ]
  },
  {
   "cell_type": "code",
   "execution_count": 373,
   "metadata": {},
   "outputs": [
    {
     "data": {
      "text/plain": [
       "matrix([[ 12.37880501, 426.49236449,   5.97750544,  10.2463163 ,\n",
       "          12.73970265],\n",
       "        [ 12.38413189, 426.0429947 ,   5.97836294,  10.24778158,\n",
       "          12.7399671 ],\n",
       "        [ 12.38413119, 426.03860237,   5.97836294,  10.24778157,\n",
       "          12.7399671 ],\n",
       "        [ 12.36815195, 426.83117566,   5.97579043,  10.24338574,\n",
       "          12.73917375]])"
      ]
     },
     "execution_count": 373,
     "metadata": {},
     "output_type": "execute_result"
    }
   ],
   "source": [
    "arm_rewards"
   ]
  },
  {
   "cell_type": "code",
   "execution_count": 374,
   "metadata": {},
   "outputs": [
    {
     "name": "stdout",
     "output_type": "stream",
     "text": [
      "0.9788624928890389\n",
      "1.9337232821455075\n",
      "0.35186267983584874\n",
      "0.5949370547857896\n",
      "0.7272301113175506\n"
     ]
    }
   ],
   "source": [
    "for arm in arms:\n",
    "    print(arm.reward_distrib)"
   ]
  },
  {
   "cell_type": "code",
   "execution_count": 375,
   "metadata": {},
   "outputs": [
    {
     "data": {
      "text/plain": [
       "[<matplotlib.lines.Line2D at 0x2237f885808>]"
      ]
     },
     "execution_count": 375,
     "metadata": {},
     "output_type": "execute_result"
    },
    {
     "data": {
      "image/png": "[encoded data removed]",
      "text/plain": [
       "<Figure size 432x288 with 1 Axes>"
      ]
     },
     "metadata": {
      "needs_background": "light"
     },
     "output_type": "display_data"
    }
   ],
   "source": [
    "plt.plot(range(T+1), iter_rewards)"
   ]
  },
  {
   "cell_type": "code",
   "execution_count": null,
   "metadata": {},
   "outputs": [],
   "source": []
  }
 ],
 "metadata": {
  "kernelspec": {
   "display_name": "Python 3",
   "language": "python",
   "name": "python3"
  },
  "language_info": {
   "codemirror_mode": {
    "name": "ipython",
    "version": 3
   },
   "file_extension": ".py",
   "mimetype": "text/x-python",
   "name": "python",
   "nbconvert_exporter": "python",
   "pygments_lexer": "ipython3",
   "version": "3.7.4"
  }
 },
 "nbformat": 4,
 "nbformat_minor": 2
}
