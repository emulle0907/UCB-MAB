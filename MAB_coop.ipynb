{
 "cells": [
  {
   "cell_type": "code",
   "execution_count": 10,
   "metadata": {},
   "outputs": [],
   "source": [
    "import networkx as nx\n",
    "import numpy as np\n",
    "import matplotlib.pyplot as plt"
   ]
  },
  {
   "cell_type": "code",
   "execution_count": 11,
   "metadata": {},
   "outputs": [],
   "source": [
    "def calculateEpsilons(eigenVals, eigenVects, M): # only works for 2 agents\n",
    "    eps_n = np.sqrt(M) * np.sum((np.abs(eigenVals[1:]) / (1 - np.abs(eigenVals[1:]))))\n",
    "    vpos = 0\n",
    "    vneg = 0\n",
    "    b = 0\n",
    "    eps_c = 0\n",
    "    for i in range(M):\n",
    "        if((eigenVects * np.transpose(eigenVects))[i,i] >= 0):\n",
    "            vpos = np.sum(eigenVects[i,0] * eigenVects[i,1])\n",
    "        if((eigenVects * np.transpose(eigenVects))[i,i] <= 0):\n",
    "            vneg = np.sum(eigenVects[i,0] * eigenVects[i,1])\n",
    "    \n",
    "        if(eigenVals[0] * eigenVals[1] >= 0 and (eigenVects * np.transpose(eigenVects))[i,i] >= 0):\n",
    "            b = vpos * (eigenVects * (np.transpose(eigenVects)))[i,i]\n",
    "        elif(eigenVals[0] * eigenVals[1] >= 0 and (eigenVects * np.transpose(eigenVects))[i,i] <= 0):\n",
    "            b = vneg * (eigenVects * (np.transpose(eigenVects)))[i,i]\n",
    "        else:\n",
    "            b = max(np.abs(vneg), vpos) * np.abs((eigenVects * np.transpose(eigenVects))[i,i])\n",
    "    \n",
    "    for p in range(M - 1):\n",
    "        lambdas = np.abs(eigenVals[p] * eigenVals[p+1])\n",
    "        eps_c += (lambdas / (1 - lambdas)) * b\n",
    "    eps_c *= M\n",
    "    return eps_n, eps_c"
   ]
  },
  {
   "cell_type": "code",
   "execution_count": 12,
   "metadata": {},
   "outputs": [],
   "source": [
    "class Agent:\n",
    "    def __init__(self, num_arms):\n",
    "        # Number of total steps\n",
    "        self.total_arm_selections = np.ones(num_arms)\n",
    "        # Total reward for each arm\n",
    "        self.arm_rewards = np.zeros(num_arms)\n",
    "        # Total mean reward from all arms\n",
    "        self.mean_rewards = self.arm_rewards / self.total_arm_selections\n",
    "    \n",
    "    def updateSelections(self, index):\n",
    "        self.total_arm_selections[index] += 1\n",
    "    \n",
    "    def updateRewards(self, index, reward):\n",
    "        self.arm_rewards[index] = reward\n",
    "    \n",
    "    def updateMeans(self):\n",
    "        self.mean_rewards = self.arm_rewards / self.total_arm_selections"
   ]
  },
  {
   "cell_type": "code",
   "execution_count": 13,
   "metadata": {},
   "outputs": [],
   "source": [
    "class Arm:\n",
    "    def __init__(self):\n",
    "        self.reward_distrib = np.random.normal(0, 1)\n",
    "    \n",
    "    def getReward(self):\n",
    "        return np.random.normal(self.reward_distrib, 1)"
   ]
  },
  {
   "cell_type": "code",
   "execution_count": 210,
   "metadata": {},
   "outputs": [],
   "source": [
    "N = 5 # number of arms\n",
    "M = 2 # number of agents\n",
    "arms = []\n",
    "agents = []\n",
    "arm_selections = []\n",
    "arm_rewards = []\n",
    "mean_rewards = []\n",
    "\n",
    "indicators = np.zeros([M,N])\n",
    "rewards = np.zeros([M,N])\n",
    "\n",
    "T = 500 # time to run for\n",
    "gamma = 1.2 # must be greater than 1 according to paper\n",
    "\n",
    "for i in range(N): # initialize arms\n",
    "    arms.append(Arm())\n",
    "\n",
    "for i in range(M): # initialize agents\n",
    "    agents.append(Agent(N))\n",
    "\n",
    "for i in range(len(agents)): # get arrays of selections and rewards\n",
    "    arm_selections.append(agents[i].total_arm_selections)\n",
    "    arm_rewards.append(agents[i].arm_rewards)\n",
    "arm_selections = np.array(arm_selections)\n",
    "arm_rewards = np.array(arm_rewards)\n",
    "\n",
    "for i in range(len(arms)): # initialize with 1 round of rewards\n",
    "    for j in range(len(agents)):\n",
    "        reward = arms[i].getReward()\n",
    "        arm_rewards[j][i] = reward\n",
    "mean_rewards = arm_rewards/arm_selections"
   ]
  },
  {
   "cell_type": "code",
   "execution_count": 211,
   "metadata": {},
   "outputs": [],
   "source": [
    "G = nx.Graph()\n",
    "G.add_nodes_from([0, 1])\n",
    "G.add_edges_from([(0, 1)])\n",
    "A = nx.adjacency_matrix(G)\n",
    "L = nx.laplacian_matrix(G)\n",
    "\n",
    "M = len(G)\n",
    "\n",
    "maxDeg = 0\n",
    "for i in range(len(G)): # find max degree in graph\n",
    "    if G.degree[i] > maxDeg:\n",
    "        maxDeg = G.degree[i]\n",
    "\n",
    "kappa = .2\n",
    "P = np.eye(len(G)) - (kappa*L / maxDeg) # calculate P matrix from paper\n",
    "eigenVals, eigenVects = np.linalg.eig(P) # calculate P's eigenvectors and eigenvalues\n",
    "\n",
    "_, eps_c = calculateEpsilons(eigenVals, eigenVects, M) # calculate epsilons eps_n and eps_c from paper"
   ]
  },
  {
   "cell_type": "code",
   "execution_count": 212,
   "metadata": {},
   "outputs": [],
   "source": [
    "reward = 0\n",
    "sampledIndex = 0\n",
    "maxRwd = 0\n",
    "maxIndex = 0\n",
    "sampledIndices = []\n",
    "iter_rewards = np.zeros(T+1)\n",
    "meanRwd = 0\n",
    "\n",
    "for t in range(1,T+1):\n",
    "    mean_rewards = arm_rewards/arm_selections # update u_i(t)\n",
    "    arm_selections = P*arm_selections + P*indicators # update s_i(t)\n",
    "    arm_rewards = P*arm_rewards + P*rewards # update n_i(t)\n",
    "    indicators = np.zeros([M,N])\n",
    "    rewards = np.zeros([M,N])\n",
    "    for k in range(len(agents)):\n",
    "        maxRwd = 0\n",
    "        vals = []\n",
    "        for i in range(len(arms)): # loop through arms to find max reward to decide which arm to choose\n",
    "            val = mean_rewards[k,i] + np.sqrt((2*gamma) * ((arm_selections[k,i] + eps_c) / (M*arm_selections[k,i])) * (np.log(t)/arm_selections[k,i]))\n",
    "            vals.append(val)\n",
    "            if val > maxRwd:\n",
    "                maxRwd = val\n",
    "                maxIndex = i\n",
    "        sampledIndex = maxIndex # set index of chosen arm\n",
    "        sampledIndices.append(sampledIndex)\n",
    "        reward = arms[sampledIndex].getReward() # get reward from chosen arm\n",
    "        meanRwd = meanRwd + (reward-meanRwd) / t\n",
    "        indicators[k,sampledIndex] = 1 # set indicator to 1 for chosen arm\n",
    "        rewards[k,sampledIndex] = reward # set r_i(t)\n",
    "        iter_rewards[t] = meanRwd"
   ]
  },
  {
   "cell_type": "code",
   "execution_count": 213,
   "metadata": {},
   "outputs": [
    {
     "data": {
      "text/plain": [
       "matrix([[-0.99265353,  0.3371351 , -0.77040474,  1.98434726, -0.8639021 ],\n",
       "        [-0.99265353,  0.3371351 , -0.77040474,  1.98407751, -0.8639021 ]])"
      ]
     },
     "execution_count": 213,
     "metadata": {},
     "output_type": "execute_result"
    }
   ],
   "source": [
    "mean_rewards"
   ]
  },
  {
   "cell_type": "code",
   "execution_count": 214,
   "metadata": {},
   "outputs": [
    {
     "data": {
      "text/plain": [
       "matrix([[  2. ,   4. ,   2.5, 493.5,   2. ],\n",
       "        [  2. ,   4. ,   2.5, 493.5,   2. ]])"
      ]
     },
     "execution_count": 214,
     "metadata": {},
     "output_type": "execute_result"
    }
   ],
   "source": [
    "arm_selections"
   ]
  },
  {
   "cell_type": "code",
   "execution_count": 215,
   "metadata": {},
   "outputs": [
    {
     "data": {
      "text/plain": [
       "matrix([[ -1.98530705,   1.34854041,  -1.92601186, 978.56463474,\n",
       "          -1.7278042 ],\n",
       "        [ -1.98530705,   1.34854041,  -1.92601186, 978.38544372,\n",
       "          -1.7278042 ]])"
      ]
     },
     "execution_count": 215,
     "metadata": {},
     "output_type": "execute_result"
    }
   ],
   "source": [
    "arm_rewards"
   ]
  },
  {
   "cell_type": "code",
   "execution_count": 216,
   "metadata": {},
   "outputs": [
    {
     "name": "stdout",
     "output_type": "stream",
     "text": [
      "-0.9328644316634388\n",
      "0.13379718073227406\n",
      "-0.8860113685749621\n",
      "2.045268497257454\n",
      "-0.3669392639235311\n"
     ]
    }
   ],
   "source": [
    "for arm in arms:\n",
    "    print(arm.reward_distrib)"
   ]
  },
  {
   "cell_type": "code",
   "execution_count": 217,
   "metadata": {},
   "outputs": [
    {
     "data": {
      "text/plain": [
       "[<matplotlib.lines.Line2D at 0x2237de6c8c8>]"
      ]
     },
     "execution_count": 217,
     "metadata": {},
     "output_type": "execute_result"
    },
    {
     "data": {
      "image/png": "[encoded data removed]",
      "text/plain": [
       "<Figure size 432x288 with 1 Axes>"
      ]
     },
     "metadata": {
      "needs_background": "light"
     },
     "output_type": "display_data"
    }
   ],
   "source": [
    "plt.plot(range(T+1), iter_rewards)"
   ]
  },
  {
   "cell_type": "code",
   "execution_count": null,
   "metadata": {},
   "outputs": [],
   "source": []
  }
 ],
 "metadata": {
  "kernelspec": {
   "display_name": "Python 3",
   "language": "python",
   "name": "python3"
  },
  "language_info": {
   "codemirror_mode": {
    "name": "ipython",
    "version": 3
   },
   "file_extension": ".py",
   "mimetype": "text/x-python",
   "name": "python",
   "nbconvert_exporter": "python",
   "pygments_lexer": "ipython3",
   "version": "3.7.4"
  }
 },
 "nbformat": 4,
 "nbformat_minor": 2
}
