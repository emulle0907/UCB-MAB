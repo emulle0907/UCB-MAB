{
 "cells": [
  {
   "cell_type": "markdown",
   "metadata": {},
   "source": [
    "Equation: a = argmax(mean reward for each arm + exploration parameter(sqrt(log(total steps))/steps for each arm))<br>\n",
    "def init(self, # of arms, exploration parameter, iterations)<br>\n",
    "    &nbsp;&nbsp;&nbsp;set parameters<br>\n",
    "    &nbsp;&nbsp;&nbsp;total steps counter<br>\n",
    "    &nbsp;&nbsp;&nbsp;array of counters for each time arm is chosen<br>\n",
    "    &nbsp;&nbsp;&nbsp;total mean reward<br>\n",
    "    &nbsp;&nbsp;&nbsp;total mean reward for each arm<br>\n",
    "    &nbsp;&nbsp;&nbsp;total mean reward for each iteration<br>\n",
    "    &nbsp;&nbsp;&nbsp;reward distribution: normal from 0 to 1, size is # of arms<br>\n",
    "    \n",
    "def action(self)<br>\n",
    "    &nbsp;&nbsp;&nbsp;action = Equation<br>\n",
    "    &nbsp;&nbsp;&nbsp;reward = normal from chosen arm's value to 1<br>\n",
    "    &nbsp;&nbsp;&nbsp;increment both counters<br>\n",
    "    &nbsp;&nbsp;&nbsp;update total reward and chosen arm reward<br>\n",
    "    \n",
    "def run(self)<br>\n",
    "    &nbsp;&nbsp;&nbsp;for i in range iterations:<br>\n",
    "        &nbsp;&nbsp;&nbsp;&nbsp;&nbsp;&nbsp;action()<br>\n",
    "        &nbsp;&nbsp;&nbsp;&nbsp;&nbsp;&nbsp;update mean reward for each iteration<br>\n",
    "        \n",
    "def reset(self)<br>\n",
    "    &nbsp;&nbsp;&nbsp;reset everything to default<br>\n",
    "    \n",
    "set # of experiments<br>\n",
    "set array to keep average of iterations for each experiment<br>\n",
    "initialize ucb<br>\n",
    "for i in range of experiments<br>\n",
    "    &nbsp;&nbsp;&nbsp;reset<br>\n",
    "    &nbsp;&nbsp;&nbsp;run<br>\n",
    "    &nbsp;&nbsp;&nbsp;update averages for experiments<br>"
   ]
  },
  {
   "cell_type": "code",
   "execution_count": 1,
   "metadata": {},
   "outputs": [],
   "source": [
    "import numpy as np\n",
    "import pandas as pd\n",
    "import matplotlib.pyplot as plt"
   ]
  },
  {
   "cell_type": "code",
   "execution_count": 24,
   "metadata": {},
   "outputs": [],
   "source": [
    "class UCB_Algorithm:\n",
    "    def __init__(self, num_arms, exploration_parameter, iters):\n",
    "        #Number of arms\n",
    "        self.num_arms = num_arms\n",
    "        # Value of exploration parameter (c)\n",
    "        self.exploration_parameter = exploration_parameter\n",
    "        # Number of iterations\n",
    "        self.iters = iters\n",
    "        # Number of total steps\n",
    "        self.total_steps = 1\n",
    "        # Number of steps for each arm\n",
    "        self.arm_steps = np.ones(num_arms)\n",
    "        # Total mean reward from all arms\n",
    "        self.mean_reward = 0\n",
    "        # Total reward for each arm\n",
    "        self.arm_rewards = np.zeros(num_arms)\n",
    "        # Total mean rewards for each iteration\n",
    "        self.iter_rewards = np.zeros(iters)\n",
    "        # Reward distribution used\n",
    "        self.reward_distrib = np.random.normal(0, 1, self.num_arms)\n",
    "        \n",
    "    def action(self):\n",
    "        # Equation finds where max reward will come from\n",
    "        action = np.argmax(self.arm_rewards + self.exploration_parameter * np.sqrt((np.log(self.total_steps))\n",
    "                                                                                 / self.arm_steps))\n",
    "        # Get reward for chosen action\n",
    "        reward = np.random.normal(self.reward_distrib[action], 1)\n",
    "        # Increment total steps and steps for arm chosen in action\n",
    "        self.total_steps += 1\n",
    "        self.arm_steps[action] += 1\n",
    "        # Update total mean reward and reward for chosen arm\n",
    "        self.mean_reward = self.mean_reward + (reward-self.mean_reward) / self.total_steps\n",
    "        self.arm_rewards[action] = self.arm_rewards[action] + (reward - self.arm_rewards[action]) /self.arm_steps[action]\n",
    "\n",
    "    def run(self):\n",
    "        # Run algorithm for number of iterations specified\n",
    "        for i in range(self.iters):\n",
    "            self.action()\n",
    "            self.iter_rewards[i] = self.mean_reward\n",
    "            \n",
    "    def reset(self):\n",
    "        # Resets to defaults to prepare for next experiment\n",
    "        self.total_steps = 1\n",
    "        self.arm_steps = np.ones(self.num_arms)\n",
    "        self.mean_reward = 0\n",
    "        self.arm_rewards = np.zeros(self.num_arms)\n",
    "        self.iter_rewards = np.zeros(iters)\n",
    "        self.reward_distrib = np.random.normal(0, 1, self.num_arms)"
   ]
  },
  {
   "cell_type": "code",
   "execution_count": 29,
   "metadata": {},
   "outputs": [
    {
     "data": {
      "image/png": "[encoded data removed]",
      "text/plain": [
       "<Figure size 432x288 with 1 Axes>"
      ]
     },
     "metadata": {
      "needs_background": "light"
     },
     "output_type": "display_data"
    }
   ],
   "source": [
    "num_arms = 10\n",
    "iters = 1000\n",
    "\n",
    "# Experiment averages\n",
    "ucb_rewards = np.zeros(iters)\n",
    "# Initialize bandits\n",
    "ucb = UCB_Algorithm(num_arms, 2, iters)\n",
    "\n",
    "experiments = 2000\n",
    "# Run experiments\n",
    "for i in range(experiments):\n",
    "    ucb.reset()\n",
    "    # Run experiments\n",
    "    ucb.run()\n",
    "    \n",
    "    # Update averages\n",
    "    ucb_rewards = ucb_rewards + (ucb.iter_rewards - ucb_rewards) / (i + 1)\n",
    "\n",
    "plt.figure()\n",
    "plt.plot(ucb_rewards, label=\"UCB\")\n",
    "plt.legend()\n",
    "plt.xlabel(\"Iterations\")\n",
    "plt.ylabel(\"Average Reward\")\n",
    "plt.title(\"Average UCB Rewards after \" \n",
    "          + str(episodes) + \" Episodes\")\n",
    "plt.show()"
   ]
  },
  {
   "cell_type": "code",
   "execution_count": 23,
   "metadata": {},
   "outputs": [
    {
     "data": {
      "text/html": [
       "<div>\n",
       "<style scoped>\n",
       "    .dataframe tbody tr th:only-of-type {\n",
       "        vertical-align: middle;\n",
       "    }\n",
       "\n",
       "    .dataframe tbody tr th {\n",
       "        vertical-align: top;\n",
       "    }\n",
       "\n",
       "    .dataframe thead th {\n",
       "        text-align: right;\n",
       "    }\n",
       "</style>\n",
       "<table border=\"1\" class=\"dataframe\">\n",
       "  <thead>\n",
       "    <tr style=\"text-align: right;\">\n",
       "      <th></th>\n",
       "      <th>a = 0</th>\n",
       "      <th>a = 1</th>\n",
       "      <th>a = 2</th>\n",
       "      <th>a = 3</th>\n",
       "      <th>a = 4</th>\n",
       "      <th>a = 5</th>\n",
       "      <th>a = 6</th>\n",
       "      <th>a = 7</th>\n",
       "      <th>a = 8</th>\n",
       "      <th>a = 9</th>\n",
       "    </tr>\n",
       "  </thead>\n",
       "  <tbody>\n",
       "    <tr>\n",
       "      <th>UCB Percentage</th>\n",
       "      <td>1.00</td>\n",
       "      <td>17.90</td>\n",
       "      <td>4.00</td>\n",
       "      <td>0.90</td>\n",
       "      <td>0.4</td>\n",
       "      <td>0.7</td>\n",
       "      <td>10.90</td>\n",
       "      <td>61.50</td>\n",
       "      <td>1.40</td>\n",
       "      <td>2.30</td>\n",
       "    </tr>\n",
       "    <tr>\n",
       "      <th>Expected Reward</th>\n",
       "      <td>-0.83</td>\n",
       "      <td>0.49</td>\n",
       "      <td>0.04</td>\n",
       "      <td>-0.88</td>\n",
       "      <td>-1.8</td>\n",
       "      <td>-1.2</td>\n",
       "      <td>0.37</td>\n",
       "      <td>0.67</td>\n",
       "      <td>-0.64</td>\n",
       "      <td>-0.24</td>\n",
       "    </tr>\n",
       "  </tbody>\n",
       "</table>\n",
       "</div>"
      ],
      "text/plain": [
       "                 a = 0  a = 1  a = 2  a = 3  a = 4  a = 5  a = 6  a = 7  \\\n",
       "UCB Percentage    1.00  17.90   4.00   0.90    0.4    0.7  10.90  61.50   \n",
       "Expected Reward  -0.83   0.49   0.04  -0.88   -1.8   -1.2   0.37   0.67   \n",
       "\n",
       "                 a = 8  a = 9  \n",
       "UCB Percentage    1.40   2.30  \n",
       "Expected Reward  -0.64  -0.24  "
      ]
     },
     "execution_count": 23,
     "metadata": {},
     "output_type": "execute_result"
    }
   ],
   "source": [
    "percentages = np.array([ucb.arm_steps]) / iters * 100\n",
    "df = pd.DataFrame(np.vstack(\n",
    "    [percentages.round(1),ucb.arm_rewards.round(2)]),\n",
    "        index=[\"UCB Percentage\",\"Expected Reward\"],\n",
    "        columns=[\"a = \" + str(x) for x in range(0, num_arms)])\n",
    "df"
   ]
  },
  {
   "cell_type": "code",
   "execution_count": null,
   "metadata": {},
   "outputs": [],
   "source": []
  }
 ],
 "metadata": {
  "kernelspec": {
   "display_name": "Python 3",
   "language": "python",
   "name": "python3"
  },
  "language_info": {
   "codemirror_mode": {
    "name": "ipython",
    "version": 3
   },
   "file_extension": ".py",
   "mimetype": "text/x-python",
   "name": "python",
   "nbconvert_exporter": "python",
   "pygments_lexer": "ipython3",
   "version": "3.7.3"
  }
 },
 "nbformat": 4,
 "nbformat_minor": 2
}
