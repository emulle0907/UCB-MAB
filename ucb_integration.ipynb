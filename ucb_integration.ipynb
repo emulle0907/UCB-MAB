{
 "cells": [
  {
   "cell_type": "markdown",
   "metadata": {},
   "source": [
    "https://hal.archives-ouvertes.fr/hal-01660617/document"
   ]
  },
  {
   "cell_type": "code",
   "execution_count": 9,
   "metadata": {},
   "outputs": [],
   "source": [
    "import numpy as np\n",
    "def ucb(k, k_n, V_n): # runs ucb\n",
    "    R = 0.01 # exploration parameter\n",
    "    return (V_n/np.sqrt(k_n)) + R*(np.sqrt(np.log(k)/k_n))\n",
    "\n",
    "def f(x): # function to integrate\n",
    "    return x**2"
   ]
  },
  {
   "cell_type": "code",
   "execution_count": 10,
   "metadata": {},
   "outputs": [],
   "source": [
    "x_min = 0 # lower bound of integral\n",
    "x_max = 10 # upper bound of integral\n",
    "N = x_max - x_min # number of regions\n",
    "omega = [x for x in range(x_min, x_max)] # strata will be omega[i]->omega[i]+1\n",
    "volumes = np.ones(N) # volumes for each region. in this case, it's 1 for all\n",
    "K = 200 # total number of samples\n",
    "K_n0 = 2 # samples to do in initialization\n",
    "s = np.zeros(N) # sum of integrand evaluations for each region\n",
    "sprime = np.zeros(N) # sum of squared integrand evals for each region\n",
    "k = np.zeros(N) # number of times region has been selected\n",
    "V = np.zeros(N) # variance of each region"
   ]
  },
  {
   "cell_type": "code",
   "execution_count": 11,
   "metadata": {},
   "outputs": [],
   "source": [
    "for n in range(N): # for all regions\n",
    "    for j in range(K_n0): # for all sampled in initialization range\n",
    "        x = np.random.uniform(omega[n], omega[n] + 1) # choose a random value in region n\n",
    "        y = f(x) # evaluate function at that random value\n",
    "        s[n] = s[n] + y # add evaluation to current region's sum\n",
    "        sprime[n] = sprime[n] + y**2 # add evaluation to current region's squared sum\n",
    "    k[n] = K_n0 # set each region to have been evaluated the number of initialization samples\n",
    "    V[n] = (sprime[n]/k[n]) - (s[n]/k[n])**2 # update each region's variance after initialization\n",
    "\n",
    "for i in range(N*K_n0, K): # for rest of samples after initialization\n",
    "    n = np.argmax(ucb(i,k[n],V[n])) # use ucb to find argmax region\n",
    "    x = np.random.uniform(omega[n], omega[n] + 1) # choose random value in that region\n",
    "    y = f(x) # eval function at that random value\n",
    "    s[n] = s[n] + y # update sum\n",
    "    sprime[n] = sprime[n] + y**2 # update squared sum\n",
    "    k[n] = k[n] + 1 # increment that region's times selected\n",
    "    V[n] = (sprime[n]/k[n]) - (s[n]/k[n])**2 # calculate variance of region\n",
    "\n",
    "F = sum((volumes*s)/k) # sum all to get final answer for integral"
   ]
  },
  {
   "cell_type": "code",
   "execution_count": 12,
   "metadata": {},
   "outputs": [
    {
     "data": {
      "text/plain": [
       "326.5722404706487"
      ]
     },
     "execution_count": 12,
     "metadata": {},
     "output_type": "execute_result"
    }
   ],
   "source": [
    "F"
   ]
  },
  {
   "cell_type": "code",
   "execution_count": null,
   "metadata": {},
   "outputs": [],
   "source": []
  }
 ],
 "metadata": {
  "kernelspec": {
   "display_name": "Python 3",
   "language": "python",
   "name": "python3"
  },
  "language_info": {
   "codemirror_mode": {
    "name": "ipython",
    "version": 3
   },
   "file_extension": ".py",
   "mimetype": "text/x-python",
   "name": "python",
   "nbconvert_exporter": "python",
   "pygments_lexer": "ipython3",
   "version": "3.7.4"
  }
 },
 "nbformat": 4,
 "nbformat_minor": 2
}
